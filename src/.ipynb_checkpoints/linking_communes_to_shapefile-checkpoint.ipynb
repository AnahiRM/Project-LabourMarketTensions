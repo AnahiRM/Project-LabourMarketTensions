{
 "cells": [
  {
   "cell_type": "markdown",
   "id": "f7719790",
   "metadata": {},
   "source": [
    "# 🏙️ Extracting Communes with 5000+ Inhabitants\n",
    "\n",
    "\n",
    "## 📌 Overview\n",
    "This notebook filters a **communes shapefile** to retain only those with **5000+ inhabitants**, preparing data for mapping."
   ]
  },
  {
   "cell_type": "code",
   "execution_count": null,
   "id": "8c8af426",
   "metadata": {},
   "outputs": [],
   "source": [
    "# IMPORT LIBRARIES\n",
    "import matplotlib.pyplot as plt\n",
    "import pandas as pd\n",
    "import re # For regular expression\n",
    "import geopandas as gpd # To read geospatial data\n",
    "from pathlib import Path # To set relative paths\n",
    "import unidecode # To standardize strings\n",
    "import py7zr # To unzip files"
   ]
  },
  {
   "cell_type": "code",
   "execution_count": null,
   "id": "38b7cce2",
   "metadata": {},
   "outputs": [],
   "source": [
    "# GETTING PROJECT'S ROOT DIRECTORY\n",
    "base_folder = Path().resolve()  # CURRENT WORKING DIRECTORY\n",
    "main_folder = base_folder.parent"
   ]
  },
  {
   "cell_type": "code",
   "execution_count": null,
   "id": "711b7ef3",
   "metadata": {},
   "outputs": [],
   "source": [
    "# EXTRACTING COMMUNES ZIPPED SHAPEFILE\n",
    "seven_zip_path = main_folder / \"data\" / \"shapefiles\" / \"Communes\" / \"communes-20220101.shp.7z\"\n",
    "extract_dir = main_folder / \"data\" / \"shapefiles\" / \"Communes\"\n",
    "\n",
    "with py7zr.SevenZipFile(seven_zip_path, mode='r') as archive:\n",
    "    archive.extractall(path=extract_dir)"
   ]
  },
  {
   "cell_type": "code",
   "execution_count": null,
   "id": "47dcd163",
   "metadata": {},
   "outputs": [],
   "source": [
    "# SETTING ALL NECESSARY DIRECTORIES\n",
    "shapefile_path = main_folder / \"data\" / \"shapefiles\" / \"Communes\" / \"communes-20220101.shp\"\n",
    "stmt_path = main_folder / \"data\" / \"1- Raw Data\" / \"STMT\" / \"STMT_categorieA\"/ \"A - January 2020 STMT.csv\"\n",
    "output_path = main_folder / \"data\" / \"2- Formatted Data\" / \"name_communes_5000.csv\""
   ]
  },
  {
   "cell_type": "code",
   "execution_count": null,
   "id": "255a2e09",
   "metadata": {
    "scrolled": true
   },
   "outputs": [],
   "source": [
    "%%capture\n",
    "\n",
    "# IMPORTING FILES\n",
    "communes_shp = gpd.read_file(shapefile_path)\n",
    "stmt_df = pd.read_csv(stmt_path, skiprows=3, delimiter=';', encoding='utf-8', skip_blank_lines=True)"
   ]
  },
  {
   "cell_type": "code",
   "execution_count": null,
   "id": "388840f1",
   "metadata": {},
   "outputs": [],
   "source": [
    "# EXPLORING FILES AND SMALL ADJUSTMENTS\n",
    "communes_shp.rename(columns={\"nom\": \"commune\"}, inplace=True)\n",
    "communes_shp.head(5)"
   ]
  },
  {
   "cell_type": "code",
   "execution_count": null,
   "id": "1e295787",
   "metadata": {},
   "outputs": [],
   "source": [
    "# Split 'Commune de plus de 5000 hab' into commune name and postal code\n",
    "stmt_df[['commune_5000', 'postal_code']] = stmt_df[\"Commune de plus de 5000 hab.\"].str.rsplit(' ', n=1, expand=True)\n",
    "stmt_df.head(5)"
   ]
  },
  {
   "cell_type": "markdown",
   "id": "7370c566",
   "metadata": {},
   "source": [
    "### The objective is to match our \"commune_5000\" column with the \"commune\" column to align geospatial information for future mapping."
   ]
  },
  {
   "cell_type": "markdown",
   "id": "b0d37691",
   "metadata": {},
   "source": [
    "1- STANDARDIZATION OF COMMUNE COLUMN FROM BOTH DATASET"
   ]
  },
  {
   "cell_type": "code",
   "execution_count": null,
   "id": "f3554fac",
   "metadata": {},
   "outputs": [],
   "source": [
    "# Standardization function\n",
    "def standardize_commune(name):\n",
    "    if pd.isna(name):\n",
    "        return None\n",
    "    name = unidecode.unidecode(name.lower().strip())  # Remove accents & lowercase\n",
    "    name = re.sub(r\"[-'’]\", \" \", name)  # Remove hyphens & apostrophes\n",
    "    name = re.sub(r\"\\bst[ .]\", \"saint \", name)  # Standardize \"St.\" -> \"Saint\"\n",
    "    return name\n",
    "\n",
    "# Apply standardization\n",
    "stmt_df[\"commune_5000\"] = stmt_df[\"commune_5000\"].apply(standardize_commune)\n",
    "communes_shp[\"commune\"] = communes_shp[\"commune\"].apply(standardize_commune)\n",
    "\n",
    "# Merge datasets\n",
    "df_merged = stmt_df.merge(communes_shp, left_on=\"commune_5000\", right_on=\"commune\", how=\"left\")"
   ]
  },
  {
   "cell_type": "markdown",
   "id": "da77a82e",
   "metadata": {},
   "source": [
    "2- WHICH COMMUNES WERE NOT MATCHED AND WHY?"
   ]
  },
  {
   "cell_type": "code",
   "execution_count": null,
   "id": "88c84594",
   "metadata": {},
   "outputs": [],
   "source": [
    "# Extract unique unmatched commune names as a list\n",
    "unique_unmatched_communes_list = df_merged.loc[df_merged[\"commune\"].isna(), \"commune_5000\"].drop_duplicates().tolist()\n",
    "\n",
    "# Print the list\n",
    "print(unique_unmatched_communes_list)\n",
    "\n",
    "# Definining a function that tries to find potential match using regex expressions\n",
    "def regex_search(commune_name, commune_list):\n",
    "    pattern = re.sub(r\"\\s+\", \".*\", commune_name)  # Convert spaces to regex wildcard\n",
    "    matches = [c for c in commune_list if re.search(pattern, c, re.IGNORECASE)]\n",
    "    return matches\n",
    "\n",
    "# Check possible regex matches\n",
    "possible_matches = {c: regex_search(c, communes_shp[\"commune\"].tolist()) for c in unique_unmatched_communes_list}\n",
    "\n",
    "# Print potential matches\n",
    "for key, value in possible_matches.items():\n",
    "    if value:\n",
    "        print(f\"🔍 Possible match for '{key}': {value}\")\n",
    "        \n",
    "# Drop unmtached values\n",
    "df_merged = df_merged[~df_merged[\"commune_5000\"].isin(unique_unmatched_communes_list)]"
   ]
  },
  {
   "cell_type": "markdown",
   "id": "bde43f6c",
   "metadata": {},
   "source": [
    "#### Looking online at the unmatched communes, the issue arises because the shapefile dates from 2022, while the dataset is from 2020. Over the years, some communes have merged, extending their names. However, most of these mergers occurred before 2020, yet the STMT data still contains old commune names. A likely explanation is that administrative and employment service records still use these older commune names. While we could attempt to merge communes, for simplicity, we will drop these approximately 40 communes (0.9% of our sample)."
   ]
  },
  {
   "cell_type": "markdown",
   "id": "ef4aa4fa",
   "metadata": {},
   "source": [
    "3- QUICK VISUALISATION"
   ]
  },
  {
   "cell_type": "code",
   "execution_count": null,
   "id": "8ba89eef",
   "metadata": {},
   "outputs": [],
   "source": [
    "# Reconvert into geospatial dataframe\n",
    "gdf = gpd.GeoDataFrame(df_merged, geometry=\"geometry\")\n",
    "\n",
    "# Define approximate bounding box for mainland France & Corsica\n",
    "france_bounds = (-5, 10, 41, 52)  # (xmin, xmax, ymin, ymax)\n",
    "\n",
    "# Filter to keep only polygons within this bounding box\n",
    "gdf_mainland = gdf.cx[france_bounds[0]:france_bounds[1], france_bounds[2]:france_bounds[3]]\n",
    "\n",
    "# Plot with very thin edges\n",
    "fig, ax = plt.subplots(figsize=(8, 10))\n",
    "gdf_mainland.plot(ax=ax, edgecolor=\"black\", linewidth=0.1, alpha=1)\n",
    "\n",
    "# Remove axis labels for cleaner visualization\n",
    "ax.set_xticks([])\n",
    "ax.set_yticks([])\n",
    "ax.set_title(\"Communes with > 5000 habitants in Metropolitan France\")\n",
    "\n",
    "plt.show()"
   ]
  },
  {
   "cell_type": "markdown",
   "id": "79944449",
   "metadata": {},
   "source": [
    "4- SAVE AND EXPORT"
   ]
  },
  {
   "cell_type": "code",
   "execution_count": null,
   "id": "906d8779",
   "metadata": {},
   "outputs": [],
   "source": [
    "# EXPORT LIST OF COMMUNES 5000 HABITANTS\n",
    "commune_5000_unique = df_merged[\"commune_5000\"].drop_duplicates()\n",
    "commune_5000_unique.to_csv(output_path, index=False)"
   ]
  }
 ],
 "metadata": {
  "kernelspec": {
   "display_name": "Python 3 (ipykernel)",
   "language": "python",
   "name": "python3"
  },
  "language_info": {
   "codemirror_mode": {
    "name": "ipython",
    "version": 3
   },
   "file_extension": ".py",
   "mimetype": "text/x-python",
   "name": "python",
   "nbconvert_exporter": "python",
   "pygments_lexer": "ipython3",
   "version": "3.11.4"
  }
 },
 "nbformat": 4,
 "nbformat_minor": 5
}
